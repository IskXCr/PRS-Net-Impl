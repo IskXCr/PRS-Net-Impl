{
 "cells": [
  {
   "cell_type": "code",
   "execution_count": 1,
   "metadata": {},
   "outputs": [
    {
     "name": "stdout",
     "output_type": "stream",
     "text": [
      "Jupyter environment detected. Enabling Open3D WebVisualizer.\n",
      "[Open3D INFO] WebRTC GUI backend enabled.\n",
      "[Open3D INFO] WebRTCWindowSystem: HTTP handshake server disabled.\n"
     ]
    },
    {
     "data": {
      "text/plain": [
       "device(type='cuda')"
      ]
     },
     "execution_count": 1,
     "metadata": {},
     "output_type": "execute_result"
    }
   ],
   "source": [
    "import open3d as o3d\n",
    "import numpy as np\n",
    "\n",
    "import torch\n",
    "import torch.nn as nn\n",
    "from torch.autograd import Variable\n",
    "\n",
    "import sys\n",
    "sys.path.insert(0, '../impl/utils/')\n",
    "import voxel_processing as vp\n",
    "\n",
    "batch_size = 64\n",
    "num_classes = 10\n",
    "learning_rate = 0.001\n",
    "num_epochs = 20\n",
    "\n",
    "# device will determine whether to run the training on GPU or CPU\n",
    "device = torch.device('cuda' if torch.cuda.is_available() else 'cpu')\n",
    "device"
   ]
  },
  {
   "cell_type": "code",
   "execution_count": 4,
   "metadata": {},
   "outputs": [],
   "source": [
    "class PRS_Encoder(nn.Module):\n",
    "    def __init__(self, ) -> None:\n",
    "        super(PRS_Encoder, self).__init__()\n",
    "        \n",
    "        leaky_ReLU_slope = 0.2\n",
    "        \n",
    "        # 32^3x1\n",
    "        self.conv_layer1 = nn.Conv3d(in_channels=1, out_channels=4, kernel_size=3, padding=1)\n",
    "        self.max_pool1 = nn.MaxPool3d(kernel_size=2, stride=2)\n",
    "        self.leaky_relu1 = nn.LeakyReLU(negative_slope=leaky_ReLU_slope)\n",
    "        \n",
    "        # 16^3x4\n",
    "        self.conv_layer2 = nn.Conv3d(in_channels=4, out_channels=8, kernel_size=3, padding=1)\n",
    "        self.max_pool2 = nn.MaxPool3d(kernel_size=2, stride=2)\n",
    "        self.leaky_relu2 = nn.LeakyReLU(negative_slope=leaky_ReLU_slope)\n",
    "        \n",
    "        # 8^3x8\n",
    "        self.conv_layer3 = nn.Conv3d(in_channels=8, out_channels=16, kernel_size=3, padding=1)\n",
    "        self.max_pool3 = nn.MaxPool3d(kernel_size=2, stride=2)\n",
    "        self.leaky_relu3 = nn.LeakyReLU(negative_slope=leaky_ReLU_slope)\n",
    "        \n",
    "        # 4^3x16\n",
    "        self.conv_layer4 = nn.Conv3d(in_channels=16, out_channels=32, kernel_size=3, padding=1)\n",
    "        self.max_pool4 = nn.MaxPool3d(kernel_size=2, stride=2)\n",
    "        self.leaky_relu4 = nn.LeakyReLU(negative_slope=leaky_ReLU_slope)\n",
    "        \n",
    "        # 2^3x32\n",
    "        self.conv_layer5 = nn.Conv3d(in_channels=32, out_channels=64, kernel_size=3, padding=1)\n",
    "        self.max_pool5 = nn.MaxPool3d(kernel_size=2, stride=2)\n",
    "        self.leaky_relu5 = nn.LeakyReLU(negative_slope=leaky_ReLU_slope)\n",
    "        # 1^3x64\n",
    "    \n",
    "    def forward(self, voxels):\n",
    "        out = self.conv_layer1(voxels)\n",
    "        out = self.max_pool1(out)\n",
    "        out = self.leaky_relu1(out)\n",
    "        \n",
    "        out = self.conv_layer2(out)\n",
    "        out = self.max_pool2(out)\n",
    "        out = self.leaky_relu2(out)\n",
    "        \n",
    "        out = self.conv_layer3(out)\n",
    "        out = self.max_pool3(out)\n",
    "        out = self.leaky_relu3(out)\n",
    "        \n",
    "        out = self.conv_layer4(out)\n",
    "        out = self.max_pool4(out)\n",
    "        out = self.leaky_relu4(out)\n",
    "        \n",
    "        out = self.conv_layer5(out)\n",
    "        out = self.max_pool5(out)\n",
    "        out = self.leaky_relu5(out)\n",
    "        \n",
    "        return out\n",
    "        "
   ]
  },
  {
   "cell_type": "code",
   "execution_count": 5,
   "metadata": {},
   "outputs": [],
   "source": [
    "class PRS_Plane_Predictor(nn.Module):\n",
    "    def __init__(self, ) -> None:\n",
    "        super(PRS_Plane_Predictor, self).__init__()\n",
    "        \n",
    "        # implicit symmetry planes: 4 features, aX + bY + cZ + d = 0\n",
    "        self.fc1 = nn.Linear(64, 32)\n",
    "        self.relu1 = nn.LeakyReLU()\n",
    "        self.fc2 = nn.Linear(32, 16)\n",
    "        self.relu2 = nn.LeakyReLU()\n",
    "        self.fc3 = nn.Linear(16, 4)\n",
    "        \n",
    "    def forward(self, features):\n",
    "        out = self.fc1(features)\n",
    "        out = self.relu1(out)\n",
    "        out = self.fc2(out)\n",
    "        out = self.relu2(out)\n",
    "        out = self.fc3(out)\n",
    "        \n",
    "        return out"
   ]
  },
  {
   "cell_type": "code",
   "execution_count": 6,
   "metadata": {},
   "outputs": [],
   "source": [
    "class PRS_Quaterion_Predictor(nn.Module):\n",
    "    def __init__(self, ) -> None:\n",
    "        super(PRS_Quaterion_Predictor, self).__init__()\n",
    "        \n",
    "        # quaterion rotation: 4 features, a + bi + cj + dk\n",
    "        self.fc1 = nn.Linear(64, 32)\n",
    "        self.relu1 = nn.LeakyReLU()\n",
    "        self.fc2 = nn.Linear(32, 16)\n",
    "        self.relu2 = nn.LeakyReLU()\n",
    "        self.fc3 = nn.Linear(16, 4)\n",
    "        \n",
    "    def forward(self, features):\n",
    "        out = self.fc1(features)\n",
    "        out = self.relu1(out)\n",
    "        out = self.fc2(out)\n",
    "        out = self.relu2(out)\n",
    "        out = self.fc3(out)\n",
    "        \n",
    "        return out"
   ]
  },
  {
   "cell_type": "code",
   "execution_count": 7,
   "metadata": {},
   "outputs": [],
   "source": [
    "class PRS_SymmDist_Loss(nn.Module):\n",
    "    '''\n",
    "    PRS Symmetry Distance Loss\n",
    "    '''\n",
    "    def __init__(self, ) -> None:\n",
    "        super(PRS_SymmDist_Loss, self).__init__()\n",
    "    \n",
    "    def forward(self, voxels, grid_points):\n",
    "        # TODO\n",
    "        # We \n",
    "        pass"
   ]
  },
  {
   "cell_type": "code",
   "execution_count": 8,
   "metadata": {},
   "outputs": [],
   "source": [
    "class PRS_Reg_Loss(nn.Module):\n",
    "    '''\n",
    "    PRS Regularization Loss\n",
    "    '''\n",
    "    def __init__(self, ) -> None:\n",
    "        super(PRS_Reg_Loss, self).__init__()\n",
    "    \n",
    "    def forward(self, voxels, grid_points):\n",
    "        # TODO\n",
    "        pass"
   ]
  },
  {
   "cell_type": "code",
   "execution_count": 9,
   "metadata": {},
   "outputs": [],
   "source": [
    "class PRS_Loss(nn.Module):\n",
    "    def __init__(self, ) -> None:\n",
    "        super(PRS_Loss, self).__init__()\n",
    "        self.symmetry_loss = PRS_SymmDist_Loss()\n",
    "        self.reg_loss = PRS_Reg_Loss()\n",
    "        self.reg_loss_weight = Variable([1], requires_grad=True)\n",
    "    \n",
    "    def forward(self, voxels, distances):\n",
    "        # TODO\n",
    "        pass"
   ]
  },
  {
   "cell_type": "code",
   "execution_count": 10,
   "metadata": {},
   "outputs": [],
   "source": [
    "class PRSNet(nn.Module):\n",
    "    def __init__(self, ) -> None:\n",
    "        super(PRSNet, self).__init__()\n",
    "        self.encoder = PRS_Encoder()\n",
    "        self.plane_predictor = PRS_Plane_Predictor()\n",
    "        self.quaterion_predictor = PRS_Quaterion_Predictor()\n",
    "        \n",
    "    def forward(self, voxels, distances):\n",
    "        # TODO\n",
    "        pass"
   ]
  },
  {
   "cell_type": "code",
   "execution_count": 3,
   "metadata": {},
   "outputs": [
    {
     "name": "stdout",
     "output_type": "stream",
     "text": [
      "Processing: ../data/obj_test_data/voxel_grid_1.obj -> ../data/voxel_data/voxel_grid_0\n",
      "Processing: ../data/obj_test_data/voxel_grid_0.obj -> ../data/voxel_data/voxel_grid_1\n",
      "2 file(s) have been processed.\n"
     ]
    }
   ],
   "source": [
    "# Create datasets\n",
    "vp.preprocess_files('../data/obj_test_data/', '../data/voxel_data')"
   ]
  },
  {
   "cell_type": "code",
   "execution_count": 6,
   "metadata": {},
   "outputs": [
    {
     "name": "stdout",
     "output_type": "stream",
     "text": [
      "Reading: ../data/voxel_data/voxel_grid_1.obj\n",
      "Reading: ../data/voxel_data/voxel_grid_0.omap\n",
      "Reading: ../data/voxel_data/voxel_grid_1.offsetvec\n",
      "Reading: ../data/voxel_data/voxel_grid_0.gridpoints\n",
      "Reading: ../data/voxel_data/voxel_grid_0.obj\n",
      "Reading: ../data/voxel_data/voxel_grid_1.omap\n",
      "Reading: ../data/voxel_data/voxel_grid_0.offsetvec\n",
      "Reading: ../data/voxel_data/voxel_grid_1.gridpoints\n",
      "2 dataset(s) have been processed. \n"
     ]
    },
    {
     "data": {
      "text/plain": [
       "array([-0.01545852,  0.8088349 ,  0.15418914], dtype=float32)"
      ]
     },
     "execution_count": 6,
     "metadata": {},
     "output_type": "execute_result"
    }
   ],
   "source": [
    "# Load datasets\n",
    "data = vp.read_data_from_path('../data/voxel_data/')\n",
    "data"
   ]
  }
 ],
 "metadata": {
  "kernelspec": {
   "display_name": "Python 3",
   "language": "python",
   "name": "python3"
  },
  "language_info": {
   "codemirror_mode": {
    "name": "ipython",
    "version": 3
   },
   "file_extension": ".py",
   "mimetype": "text/x-python",
   "name": "python",
   "nbconvert_exporter": "python",
   "pygments_lexer": "ipython3",
   "version": "3.10.12"
  }
 },
 "nbformat": 4,
 "nbformat_minor": 2
}
