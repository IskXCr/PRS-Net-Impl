{
 "cells": [
  {
   "cell_type": "markdown",
   "metadata": {},
   "source": [
    "# Prototype: PRS-Net"
   ]
  },
  {
   "cell_type": "code",
   "execution_count": 1,
   "metadata": {},
   "outputs": [
    {
     "name": "stdout",
     "output_type": "stream",
     "text": [
      "Jupyter environment detected. Enabling Open3D WebVisualizer.\n",
      "[Open3D INFO] WebRTC GUI backend enabled.\n",
      "[Open3D INFO] WebRTCWindowSystem: HTTP handshake server disabled.\n"
     ]
    },
    {
     "data": {
      "text/plain": [
       "device(type='cuda')"
      ]
     },
     "execution_count": 1,
     "metadata": {},
     "output_type": "execute_result"
    }
   ],
   "source": [
    "import open3d as o3d\n",
    "import numpy as np\n",
    "\n",
    "import torch\n",
    "import torch.nn as nn\n",
    "from torch.autograd import Variable\n",
    "\n",
    "import sys\n",
    "sys.path.insert(0, '../impl/utils/')\n",
    "import voxel_processing as vp\n",
    "\n",
    "batch_size = 64\n",
    "num_classes = 10\n",
    "learning_rate = 0.001\n",
    "num_epochs = 20\n",
    "\n",
    "# device will determine whether to run the training on GPU or CPU\n",
    "device = torch.device('cuda' if torch.cuda.is_available() else 'cpu')\n",
    "device"
   ]
  },
  {
   "cell_type": "code",
   "execution_count": 2,
   "metadata": {},
   "outputs": [
    {
     "name": "stdout",
     "output_type": "stream",
     "text": [
      "Reading: ../data/voxel_data/voxel_grid_1.obj\n",
      "Reading: ../data/voxel_data/voxel_grid_0.omap\n",
      "Reading: ../data/voxel_data/voxel_grid_1.offsetvec\n",
      "Reading: ../data/voxel_data/voxel_grid_0.gridpoints\n",
      "Reading: ../data/voxel_data/voxel_grid_0.obj\n",
      "Reading: ../data/voxel_data/voxel_grid_1.omap\n",
      "Reading: ../data/voxel_data/voxel_grid_0.offsetvec\n",
      "Reading: ../data/voxel_data/voxel_grid_1.gridpoints\n",
      "2 dataset(s) have been processed. \n",
      "2 dataset(s) have been prepared. \n"
     ]
    }
   ],
   "source": [
    "# Load datasets\n",
    "data = vp.read_dataset_from_path('../data/voxel_data/')\n",
    "data = vp.prepare_dataset(data)"
   ]
  },
  {
   "cell_type": "markdown",
   "metadata": {},
   "source": [
    "Implementing PRS-Net"
   ]
  },
  {
   "cell_type": "code",
   "execution_count": 6,
   "metadata": {},
   "outputs": [],
   "source": [
    "class PRS_Encoder(nn.Module):\n",
    "    def __init__(self, ) -> None:\n",
    "        super().__init__()\n",
    "        \n",
    "        leaky_ReLU_slope = 0.2\n",
    "        \n",
    "        # 32^3x1\n",
    "        self.conv_layer0 = nn.Conv3d(in_channels=1, out_channels=4, kernel_size=(3, 3, 3), stride=(1, 1, 1), padding=(1, 1, 1))\n",
    "        self.max_pool0 = nn.MaxPool3d(kernel_size=(2, 2, 2), stride=(2, 2, 2))\n",
    "        self.leaky_relu0 = nn.LeakyReLU(negative_slope=leaky_ReLU_slope)\n",
    "        \n",
    "        # 16^3x4\n",
    "        self.conv_layer1 = nn.Conv3d(in_channels=4, out_channels=8, kernel_size=(3, 3, 3), stride=(1, 1, 1), padding=(1, 1, 1))\n",
    "        self.max_pool1 = nn.MaxPool3d(kernel_size=(2, 2, 2), stride=(2, 2, 2))\n",
    "        self.leaky_relu1 = nn.LeakyReLU(negative_slope=leaky_ReLU_slope)\n",
    "        \n",
    "        # 8^3x8\n",
    "        self.conv_layer2 = nn.Conv3d(in_channels=8, out_channels=16, kernel_size=(3, 3, 3), stride=(1, 1, 1), padding=(1, 1, 1))\n",
    "        self.max_pool2 = nn.MaxPool3d(kernel_size=(2, 2, 2), stride=(2, 2, 2))\n",
    "        self.leaky_relu2 = nn.LeakyReLU(negative_slope=leaky_ReLU_slope)\n",
    "        \n",
    "        # 4^3x16\n",
    "        self.conv_layer3 = nn.Conv3d(in_channels=16, out_channels=32, kernel_size=(3, 3, 3), stride=(1, 1, 1), padding=(1, 1, 1))\n",
    "        self.max_pool3 = nn.MaxPool3d(kernel_size=(2, 2, 2), stride=(2, 2, 2))\n",
    "        self.leaky_relu3 = nn.LeakyReLU(negative_slope=leaky_ReLU_slope)\n",
    "        \n",
    "        # 2^3x32\n",
    "        self.conv_layer4 = nn.Conv3d(in_channels=32, out_channels=64, kernel_size=(3, 3, 3), stride=(1, 1, 1), padding=(1, 1, 1))\n",
    "        self.max_pool4 = nn.MaxPool3d(kernel_size=(2, 2, 2), stride=(2, 2, 2))\n",
    "        self.leaky_relu4 = nn.LeakyReLU(negative_slope=leaky_ReLU_slope)\n",
    "        # 1^3x64\n",
    "    \n",
    "    def forward(self, voxels):\n",
    "        out = self.conv_layer0(voxels)\n",
    "        out = self.max_pool0(out)\n",
    "        out = self.leaky_relu0(out)\n",
    "        \n",
    "        out = self.conv_layer1(out)\n",
    "        out = self.max_pool1(out)\n",
    "        out = self.leaky_relu1(out)\n",
    "        \n",
    "        out = self.conv_layer2(out)\n",
    "        out = self.max_pool2(out)\n",
    "        out = self.leaky_relu2(out)\n",
    "        \n",
    "        out = self.conv_layer3(out)\n",
    "        out = self.max_pool3(out)\n",
    "        out = self.leaky_relu3(out)\n",
    "        \n",
    "        out = self.conv_layer4(out)\n",
    "        out = self.max_pool4(out)\n",
    "        out = self.leaky_relu4(out)\n",
    "        \n",
    "        return out\n",
    "        "
   ]
  },
  {
   "cell_type": "code",
   "execution_count": 7,
   "metadata": {},
   "outputs": [],
   "source": [
    "class PRS_Plane_Predictor(nn.Module):\n",
    "    def __init__(self, ) -> None:\n",
    "        super().__init__()\n",
    "        \n",
    "        # implicit symmetry planes: 4 features, aX + bY + cZ + d = 0\n",
    "        self.fc0 = nn.Linear(64, 32)\n",
    "        self.relu0 = nn.LeakyReLU()\n",
    "        self.fc1 = nn.Linear(32, 16)\n",
    "        self.relu1 = nn.LeakyReLU()\n",
    "        self.fc2 = nn.Linear(16, 4)\n",
    "        \n",
    "    def forward(self, features):\n",
    "        out = self.fc0(features)\n",
    "        out = self.relu0(out)\n",
    "        out = self.fc1(out)\n",
    "        out = self.relu1(out)\n",
    "        out = self.fc2(out)\n",
    "        \n",
    "        return out"
   ]
  },
  {
   "cell_type": "code",
   "execution_count": 8,
   "metadata": {},
   "outputs": [],
   "source": [
    "class PRS_Quaterion_Predictor(nn.Module):\n",
    "    def __init__(self, ) -> None:\n",
    "        super().__init__()\n",
    "        \n",
    "        # quaterion rotation: 4 features, a + bi + cj + dk\n",
    "        self.fc0 = nn.Linear(64, 32)\n",
    "        self.relu0 = nn.LeakyReLU()\n",
    "        self.fc1 = nn.Linear(32, 16)\n",
    "        self.relu1 = nn.LeakyReLU()\n",
    "        self.fc2 = nn.Linear(16, 4)\n",
    "        \n",
    "    def forward(self, features):\n",
    "        out = self.fc0(features)\n",
    "        out = self.relu0(out)\n",
    "        out = self.fc1(out)\n",
    "        out = self.relu1(out)\n",
    "        out = self.fc2(out)\n",
    "        \n",
    "        return out"
   ]
  },
  {
   "cell_type": "code",
   "execution_count": 11,
   "metadata": {},
   "outputs": [],
   "source": [
    "class PRSNet(nn.Module):\n",
    "    def __init__(self, ) -> None:\n",
    "        super(PRSNet, self).__init__()\n",
    "        \n",
    "        self.encoder = PRS_Encoder()\n",
    "        self.plane_predictor0 = PRS_Plane_Predictor()\n",
    "        self.plane_predictor1 = PRS_Plane_Predictor()\n",
    "        self.plane_predictor2 = PRS_Plane_Predictor()\n",
    "        self.quaterion_predictor0 = PRS_Quaterion_Predictor()\n",
    "        self.quaterion_predictor1 = PRS_Quaterion_Predictor()\n",
    "        self.quaterion_predictor2 = PRS_Quaterion_Predictor()\n",
    "        \n",
    "    def forward(self, batch_voxels):\n",
    "        out0 = self.encoder(batch_voxels)\n",
    "        \n",
    "        out0 = out0.reshape(-1, 64)\n",
    "        \n",
    "        plane0 = self.plane_predictor0(out0)\n",
    "        plane1 = self.plane_predictor1(out0)\n",
    "        plane2 = self.plane_predictor2(out0)\n",
    "        \n",
    "        quat0 = self.quaterion_predictor0(out0)\n",
    "        quat1 = self.quaterion_predictor1(out0)\n",
    "        quat2 = self.quaterion_predictor2(out0)\n",
    "        \n",
    "        return [plane0, plane1, plane2], [quat0, quat1, quat2]"
   ]
  },
  {
   "cell_type": "code",
   "execution_count": 16,
   "metadata": {},
   "outputs": [
    {
     "data": {
      "text/plain": [
       "torch.Size([2, 4])"
      ]
     },
     "execution_count": 16,
     "metadata": {},
     "output_type": "execute_result"
    }
   ],
   "source": [
    "batch_voxels = data[1]\n",
    "# test_layer = nn.Conv3d(in_channels=1, out_channels=1, kernel_size=(3, 3, 3), stride=(1, 1, 1), padding=(1, 1, 1))\n",
    "test_layer = PRSNet()\n",
    "result = test_layer.forward(batch_voxels)"
   ]
  },
  {
   "cell_type": "code",
   "execution_count": null,
   "metadata": {},
   "outputs": [],
   "source": [
    "def compute_single_dist_sum(grid_points, query_points):\n",
    "    '''\n",
    "    Compute the sum of 'shortest distances' between points \n",
    "    and the closest point on the mesh's surface in their corresponding grids\n",
    "    '''\n",
    "    query_indices = vp.compute_std_grid_indices(query_points)\n",
    "    query_indices = query_indices.T\n",
    "    displacements = grid_points[query_indices] - query_points\n",
    "    vector_norm = torch.linalg.vector_norm(displacements, dim=1)\n",
    "    result = torch.sum(vector_norm)\n",
    "    return result"
   ]
  },
  {
   "cell_type": "code",
   "execution_count": null,
   "metadata": {},
   "outputs": [],
   "source": [
    "class PRSNet_Symm_Dist_Loss(nn.Module):\n",
    "    '''\n",
    "    PRSNet Symmetry Distance Loss\n",
    "    '''\n",
    "    def __init__(self, ) -> None:\n",
    "        super().__init__()\n",
    "\n",
    "    def compute_dist_sum(batch_grid_points, batch_query_points):\n",
    "        '''\n",
    "        Compute, for each sample, the sum of 'shortest distances' between points \n",
    "        and the closest point on the mesh's surface in their corresponding grids\n",
    "        '''\n",
    "        batch_query_indices = vp.compute_batch_std_grid_indices(batch_query_points)\n",
    "        batch_displacements = batch_grid_points[batch_query_indices] - batch_query_points\n",
    "        vector_norm = torch.linalg.vector_norm(batch_displacements, dim=2)\n",
    "        result = torch.sum(vector_norm, dim=1)\n",
    "        return result\n",
    "\n",
    "    def apply_planar_transform(sample_points, plane):\n",
    "        '''\n",
    "        Compute planar transformation of the given sample points.\n",
    "        \n",
    "        The formula is given by `q' = q - 2 <q - r, n> n`, where:\n",
    "        - q is the target point, q' is the point after symmetric transformation,\n",
    "        - r is the orthogonal displacement vector of the plane, and\n",
    "        - n is the normalized normal vector of the plane.\n",
    "        '''\n",
    "        n = plane[:, 0:3] / torch.norm(plane[:, 0:3])\n",
    "        q = sample_points\n",
    "        q_prime = q - 2. * (torch.matmul(q, n) + plane[:, 3]) * n\n",
    "        \n",
    "        return q_prime\n",
    "    \n",
    "    def forward(self, batch_planar_features, batch_axial_features, batch_grid_points, batch_sample_points):\n",
    "        planar_loss = 0\n",
    "        axial_loss = 0\n",
    "        return planar_loss + axial_loss"
   ]
  },
  {
   "cell_type": "code",
   "execution_count": null,
   "metadata": {},
   "outputs": [],
   "source": [
    "class PRSNet_Reg_Loss(nn.Module):\n",
    "    '''\n",
    "    PRS Regularization Loss\n",
    "    '''\n",
    "    def __init__(self, ) -> None:\n",
    "        super().__init__()\n",
    "    \n",
    "    def forward(self, features, grid_points):\n",
    "        # TODO\n",
    "        pass"
   ]
  },
  {
   "cell_type": "code",
   "execution_count": null,
   "metadata": {},
   "outputs": [],
   "source": [
    "class PRSNet_Loss(nn.Module):\n",
    "    def __init__(self, w_reg) -> None:\n",
    "        super().__init__()\n",
    "        self.symmetry_loss = PRSNet_Symm_Dist_Loss()\n",
    "        self.reg_loss = PRSNet_Reg_Loss()\n",
    "        self.w_reg = w_reg\n",
    "        \n",
    "    \n",
    "    def forward(self, features, grid_points, sample_points):\n",
    "        # TODO\n",
    "        pass"
   ]
  }
 ],
 "metadata": {
  "kernelspec": {
   "display_name": "Python 3",
   "language": "python",
   "name": "python3"
  },
  "language_info": {
   "codemirror_mode": {
    "name": "ipython",
    "version": 3
   },
   "file_extension": ".py",
   "mimetype": "text/x-python",
   "name": "python",
   "nbconvert_exporter": "python",
   "pygments_lexer": "ipython3",
   "version": "3.10.12"
  }
 },
 "nbformat": 4,
 "nbformat_minor": 2
}
