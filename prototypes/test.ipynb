{
 "cells": [
  {
   "cell_type": "code",
   "execution_count": 1,
   "metadata": {},
   "outputs": [
    {
     "name": "stdout",
     "output_type": "stream",
     "text": [
      "Jupyter environment detected. Enabling Open3D WebVisualizer.\n",
      "[Open3D INFO] WebRTC GUI backend enabled.\n",
      "[Open3D INFO] WebRTCWindowSystem: HTTP handshake server disabled.\n"
     ]
    }
   ],
   "source": [
    "import sys\n",
    "import numpy as np\n",
    "import open3d as o3d\n",
    "\n",
    "sys.path.insert(0, '../impl/utils/')"
   ]
  },
  {
   "cell_type": "code",
   "execution_count": 8,
   "metadata": {},
   "outputs": [
    {
     "name": "stdout",
     "output_type": "stream",
     "text": [
      "Reading: ../data/voxel_data/voxel_grid_0.mat\n",
      "Reading: ../data/voxel_data/voxel_grid_1.obj\n",
      "Reading: ../data/voxel_data/voxel_grid_0.obj\n",
      "Reading: ../data/voxel_data/voxel_grid_1.mat\n",
      "2 dataset(s) have been processed. `grid_points` have been computed.\n"
     ]
    }
   ],
   "source": [
    "import voxel_processing as vp\n",
    "\n",
    "resulting_list = vp.read_data_from_path('../data/voxel_data/')\n",
    "mesh, omap, hi = resulting_list[0]"
   ]
  },
  {
   "cell_type": "code",
   "execution_count": 19,
   "metadata": {},
   "outputs": [
    {
     "name": "stdout",
     "output_type": "stream",
     "text": [
      "(32768, 3)\n"
     ]
    },
    {
     "data": {
      "text/plain": [
       "array([[-1.        , -1.        , -1.        ],\n",
       "       [-1.        , -0.9354839 , -1.        ],\n",
       "       [-1.        , -0.87096775, -1.        ],\n",
       "       ...,\n",
       "       [ 1.        ,  0.87096775,  1.        ],\n",
       "       [ 1.        ,  0.9354839 ,  1.        ],\n",
       "       [ 1.        ,  1.        ,  1.        ]], dtype=float32)"
      ]
     },
     "execution_count": 19,
     "metadata": {},
     "output_type": "execute_result"
    }
   ],
   "source": [
    "primitive_coords = np.linspace(-1.0, 1.0, 32, dtype=np.float32)\n",
    "coords = np.array(np.meshgrid(primitive_coords, primitive_coords, primitive_coords)).T.reshape(-1, 3)\n",
    "print(coords.shape)\n",
    "coords"
   ]
  },
  {
   "cell_type": "code",
   "execution_count": 10,
   "metadata": {},
   "outputs": [],
   "source": [
    "mesh0 = o3d.t.geometry.TriangleMesh.from_legacy(mesh)\n",
    "scene = o3d.t.geometry.RaycastingScene()\n",
    "_ = scene.add_triangles(mesh0)"
   ]
  },
  {
   "cell_type": "code",
   "execution_count": 26,
   "metadata": {},
   "outputs": [
    {
     "name": "stdout",
     "output_type": "stream",
     "text": [
      "[[[[-0.0663119 -0.0681553 -0.755447 ]\n",
      "   [-0.0663119 -0.0681553 -0.755447 ]]\n",
      "\n",
      "  [[-0.0663119 -0.0681553 -0.755447 ]\n",
      "   [-0.0663119 -0.0681553 -0.755447 ]]]\n",
      "\n",
      "\n",
      " [[[-0.0663119 -0.0681553 -0.755447 ]\n",
      "   [-0.0663119 -0.0681553 -0.755447 ]]\n",
      "\n",
      "  [[-0.0663119 -0.0681553 -0.755447 ]\n",
      "   [-0.0663119 -0.0681553 -0.755447 ]]]]\n"
     ]
    }
   ],
   "source": [
    "ans = scene.compute_closest_points(coords[0:8])\n",
    "print(ans['points'].numpy().reshape(2, 2, 2, 3))"
   ]
  },
  {
   "cell_type": "code",
   "execution_count": 1,
   "metadata": {},
   "outputs": [
    {
     "name": "stdout",
     "output_type": "stream",
     "text": [
      "Jupyter environment detected. Enabling Open3D WebVisualizer.\n",
      "[Open3D INFO] WebRTC GUI backend enabled.\n",
      "[Open3D INFO] WebRTCWindowSystem: HTTP handshake server disabled.\n",
      "[Open3D INFO] Resetting default logger to print to terminal.\n",
      "[Open3D INFO] Window window_0 created.\n",
      "[Open3D INFO] EGL headless mode enabled.\n",
      "[Open3D INFO] ICE servers: [\"stun:stun.l.google.com:19302\", \"turn:user:password@34.69.27.100:3478\", \"turn:user:password@34.69.27.100:3478?transport=tcp\"]\n",
      "FEngine (64 bits) created at 0x7ffa24d34010 (threading is enabled)\n",
      "[Open3D INFO] Set WEBRTC_STUN_SERVER environment variable add a customized WebRTC STUN server.\n",
      "[Open3D INFO] WebRTC Jupyter handshake mode enabled.\n",
      "EGL(1.5)\n",
      "OpenGL(4.2)\n"
     ]
    },
    {
     "data": {
      "application/vnd.jupyter.widget-view+json": {
       "model_id": "e3ef73efe30146f49fa560e0caf43a36",
       "version_major": 2,
       "version_minor": 0
      },
      "text/plain": [
       "WebVisualizer(window_uid='window_0')"
      ]
     },
     "metadata": {},
     "output_type": "display_data"
    }
   ],
   "source": [
    "import open3d as o3d\n",
    "import open3d.web_visualizer as vis\n",
    "\n",
    "SOURCE_NAME = \"Source\"\n",
    "RESULT_NAME = \"Result (Poisson reconstruction)\"\n",
    "TRUTH_NAME = \"Ground truth\"\n",
    "\n",
    "bunny = o3d.data.BunnyMesh()\n",
    "bunny_mesh = o3d.io.read_triangle_mesh(bunny.path)\n",
    "bunny_mesh.compute_vertex_normals()\n",
    "\n",
    "bunny_mesh.paint_uniform_color((1, 0.75, 0))\n",
    "bunny_mesh.compute_vertex_normals()\n",
    "cloud = o3d.geometry.PointCloud()\n",
    "cloud.points = bunny_mesh.vertices\n",
    "cloud.normals = bunny_mesh.vertex_normals\n",
    "\n",
    "def make_mesh(o3dvis):\n",
    "    mesh, _ = o3d.geometry.TriangleMesh.create_from_point_cloud_poisson(\n",
    "        cloud)\n",
    "    mesh.paint_uniform_color((1, 1, 1))\n",
    "    mesh.compute_vertex_normals()\n",
    "    o3dvis.add_geometry({\"name\": RESULT_NAME, \"geometry\": mesh})\n",
    "    o3dvis.show_geometry(SOURCE_NAME, False)\n",
    "\n",
    "def toggle_result(o3dvis):\n",
    "    truth_vis = o3dvis.get_geometry(TRUTH_NAME).is_visible\n",
    "    o3dvis.show_geometry(TRUTH_NAME, not truth_vis)\n",
    "    o3dvis.show_geometry(RESULT_NAME, truth_vis)\n",
    "\n",
    "\n",
    "vis.draw([{\n",
    "    \"name\": SOURCE_NAME,\n",
    "    \"geometry\": cloud\n",
    "}, {\n",
    "    \"name\": TRUTH_NAME,\n",
    "    \"geometry\": bunny_mesh,\n",
    "    \"is_visible\": False\n",
    "}],\n",
    "     actions=[(\"Create Mesh\", make_mesh),\n",
    "              (\"Toggle truth/result\", toggle_result)])"
   ]
  }
 ],
 "metadata": {
  "kernelspec": {
   "display_name": "Python 3",
   "language": "python",
   "name": "python3"
  },
  "language_info": {
   "codemirror_mode": {
    "name": "ipython",
    "version": 3
   },
   "file_extension": ".py",
   "mimetype": "text/x-python",
   "name": "python",
   "nbconvert_exporter": "python",
   "pygments_lexer": "ipython3",
   "version": "3.10.12"
  }
 },
 "nbformat": 4,
 "nbformat_minor": 2
}
