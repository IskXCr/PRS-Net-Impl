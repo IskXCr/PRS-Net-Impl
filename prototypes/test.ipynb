{
 "cells": [
  {
   "cell_type": "code",
   "execution_count": 1,
   "metadata": {},
   "outputs": [
    {
     "name": "stdout",
     "output_type": "stream",
     "text": [
      "Jupyter environment detected. Enabling Open3D WebVisualizer.\n",
      "[Open3D INFO] WebRTC GUI backend enabled.\n",
      "[Open3D INFO] WebRTCWindowSystem: HTTP handshake server disabled.\n"
     ]
    }
   ],
   "source": [
    "import sys\n",
    "import numpy as np\n",
    "import open3d as o3d\n",
    "\n",
    "sys.path.insert(0, '../impl/utils/')"
   ]
  },
  {
   "cell_type": "code",
   "execution_count": 8,
   "metadata": {},
   "outputs": [
    {
     "name": "stdout",
     "output_type": "stream",
     "text": [
      "Reading: ../data/voxel_data/voxel_grid_0.mat\n",
      "Reading: ../data/voxel_data/voxel_grid_1.obj\n",
      "Reading: ../data/voxel_data/voxel_grid_0.obj\n",
      "Reading: ../data/voxel_data/voxel_grid_1.mat\n",
      "2 dataset(s) have been processed. `grid_points` have been computed.\n"
     ]
    }
   ],
   "source": [
    "import voxel_processing as vp\n",
    "\n",
    "resulting_list = vp.read_data_from_path('../data/voxel_data/')\n",
    "mesh, omap, hi = resulting_list[0]"
   ]
  },
  {
   "cell_type": "code",
   "execution_count": 19,
   "metadata": {},
   "outputs": [
    {
     "name": "stdout",
     "output_type": "stream",
     "text": [
      "(32768, 3)\n"
     ]
    },
    {
     "data": {
      "text/plain": [
       "array([[-1.        , -1.        , -1.        ],\n",
       "       [-1.        , -0.9354839 , -1.        ],\n",
       "       [-1.        , -0.87096775, -1.        ],\n",
       "       ...,\n",
       "       [ 1.        ,  0.87096775,  1.        ],\n",
       "       [ 1.        ,  0.9354839 ,  1.        ],\n",
       "       [ 1.        ,  1.        ,  1.        ]], dtype=float32)"
      ]
     },
     "execution_count": 19,
     "metadata": {},
     "output_type": "execute_result"
    }
   ],
   "source": [
    "primitive_coords = np.linspace(-1.0, 1.0, 32, dtype=np.float32)\n",
    "coords = np.array(np.meshgrid(primitive_coords, primitive_coords, primitive_coords)).T.reshape(-1, 3)\n",
    "print(coords.shape)\n",
    "coords"
   ]
  },
  {
   "cell_type": "code",
   "execution_count": 10,
   "metadata": {},
   "outputs": [],
   "source": [
    "mesh0 = o3d.t.geometry.TriangleMesh.from_legacy(mesh)\n",
    "scene = o3d.t.geometry.RaycastingScene()\n",
    "_ = scene.add_triangles(mesh0)"
   ]
  },
  {
   "cell_type": "code",
   "execution_count": 26,
   "metadata": {},
   "outputs": [
    {
     "name": "stdout",
     "output_type": "stream",
     "text": [
      "[[[[-0.0663119 -0.0681553 -0.755447 ]\n",
      "   [-0.0663119 -0.0681553 -0.755447 ]]\n",
      "\n",
      "  [[-0.0663119 -0.0681553 -0.755447 ]\n",
      "   [-0.0663119 -0.0681553 -0.755447 ]]]\n",
      "\n",
      "\n",
      " [[[-0.0663119 -0.0681553 -0.755447 ]\n",
      "   [-0.0663119 -0.0681553 -0.755447 ]]\n",
      "\n",
      "  [[-0.0663119 -0.0681553 -0.755447 ]\n",
      "   [-0.0663119 -0.0681553 -0.755447 ]]]]\n"
     ]
    }
   ],
   "source": [
    "ans = scene.compute_closest_points(coords[0:8])\n",
    "print(ans['points'].numpy().reshape(2, 2, 2, 3))"
   ]
  }
 ],
 "metadata": {
  "kernelspec": {
   "display_name": "Python 3",
   "language": "python",
   "name": "python3"
  },
  "language_info": {
   "codemirror_mode": {
    "name": "ipython",
    "version": 3
   },
   "file_extension": ".py",
   "mimetype": "text/x-python",
   "name": "python",
   "nbconvert_exporter": "python",
   "pygments_lexer": "ipython3",
   "version": "3.10.12"
  }
 },
 "nbformat": 4,
 "nbformat_minor": 2
}
