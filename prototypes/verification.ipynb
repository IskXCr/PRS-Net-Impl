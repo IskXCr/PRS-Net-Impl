{
 "cells": [
  {
   "cell_type": "markdown",
   "metadata": {},
   "source": [
    "# Prototype: Verification"
   ]
  },
  {
   "cell_type": "code",
   "execution_count": 1,
   "metadata": {},
   "outputs": [
    {
     "name": "stdout",
     "output_type": "stream",
     "text": [
      "Jupyter environment detected. Enabling Open3D WebVisualizer.\n",
      "[Open3D INFO] WebRTC GUI backend enabled.\n",
      "[Open3D INFO] WebRTCWindowSystem: HTTP handshake server disabled.\n"
     ]
    },
    {
     "data": {
      "text/plain": [
       "device(type='cuda')"
      ]
     },
     "execution_count": 1,
     "metadata": {},
     "output_type": "execute_result"
    }
   ],
   "source": [
    "import open3d as o3d\n",
    "import numpy as np\n",
    "\n",
    "import torch\n",
    "import torch.nn as nn\n",
    "from torch.autograd import Variable\n",
    "import open3d.visualization as vis\n",
    "\n",
    "import sys\n",
    "sys.path.insert(0, '../impl/utils/')\n",
    "sys.path.insert(0, '../')\n",
    "import voxel_processing as vp\n",
    "\n",
    "# device will determine whether to run the training on GPU or CPU\n",
    "device = torch.device('cuda' if torch.cuda.is_available() else 'cpu')\n",
    "device"
   ]
  },
  {
   "cell_type": "code",
   "execution_count": 2,
   "metadata": {},
   "outputs": [
    {
     "data": {
      "text/plain": [
       "PRSNet_Loss(\n",
       "  (symmetry_loss): PRSNet_Symm_Dist_Loss()\n",
       "  (reg_loss): PRSNet_Reg_Loss()\n",
       ")"
      ]
     },
     "execution_count": 2,
     "metadata": {},
     "output_type": "execute_result"
    }
   ],
   "source": [
    "from impl.PRSNet import PRSNet_Loss\n",
    "criterion = PRSNet_Loss(25)\n",
    "criterion.to(device)"
   ]
  },
  {
   "cell_type": "code",
   "execution_count": 24,
   "metadata": {},
   "outputs": [
    {
     "name": "stdout",
     "output_type": "stream",
     "text": [
      "[visualization.py] Drawing symmetry plane [0.5708 0.0789 0.0323 0.0152]\n"
     ]
    }
   ],
   "source": [
    "mesh = vp.read_mesh_from_file(\"../data/func_test/voxel/prs_dat_0.objdat\")\n",
    "mesh.compute_vertex_normals()\n",
    "plane = np.array([0.5708, 0.0789, 0.0323, 0.0152], dtype=np.float32)\n",
    "import visualization as prsvis\n",
    "prsvis.visualize_planar_symmetry(mesh, plane)"
   ]
  },
  {
   "cell_type": "code",
   "execution_count": 30,
   "metadata": {},
   "outputs": [],
   "source": [
    "index, omap, grid_points, sample_points = vp.prepare_single_data(('../data/func_test/voxel/prs_dat_0.voxdat', 1))"
   ]
  },
  {
   "cell_type": "markdown",
   "metadata": {},
   "source": [
    "Test if transformed mesh is within bounds"
   ]
  },
  {
   "cell_type": "code",
   "execution_count": 31,
   "metadata": {},
   "outputs": [],
   "source": [
    "pcd = o3d.geometry.PointCloud()\n",
    "pcd.points = o3d.utility.Vector3dVector(sample_points)\n",
    "frame = o3d.geometry.TriangleMesh.create_coordinate_frame()\n",
    "o3d.visualization.draw_geometries([pcd, mesh, frame])"
   ]
  },
  {
   "cell_type": "code",
   "execution_count": 34,
   "metadata": {},
   "outputs": [
    {
     "data": {
      "text/plain": [
       "tensor(148.7330, device='cuda:0')"
      ]
     },
     "execution_count": 34,
     "metadata": {},
     "output_type": "execute_result"
    }
   ],
   "source": [
    "pl = torch.tensor([0.75011107,  0.         ,-0.66131187, 0], device=device, dtype=torch.float32)\n",
    "planar_features = pl.reshape(1, 1, 4).repeat(1, 3, 1)\n",
    "\n",
    "SP_train = sample_points.reshape(1, 1000, 3).to(device, dtype=torch.float32)\n",
    "GP_train = grid_points.reshape(1, 32, 32, 32, 3).to(device, dtype=torch.float32)\n",
    "SP_trans = criterion.symmetry_loss.apply_planar_transform(planar_features, SP_train)\n",
    "criterion.symmetry_loss.compute_batch_dist_sum(GP_train, SP_trans.reshape(1, -1, 3)).sum()"
   ]
  },
  {
   "cell_type": "markdown",
   "metadata": {},
   "source": [
    "Show Transformed Points"
   ]
  },
  {
   "cell_type": "code",
   "execution_count": 70,
   "metadata": {},
   "outputs": [],
   "source": [
    "pcd1 = o3d.geometry.PointCloud()\n",
    "arr = np.array(SP_trans.detach().cpu().numpy())\n",
    "pcd1.points = o3d.utility.Vector3dVector(arr[:, :1000, 0, :].reshape(-1, 3))\n",
    "frame = o3d.geometry.TriangleMesh.create_coordinate_frame()\n",
    "o3d.visualization.draw_geometries([pcd1, transformed_mesh, frame])"
   ]
  },
  {
   "cell_type": "markdown",
   "metadata": {},
   "source": [
    "Show Grid Points"
   ]
  },
  {
   "cell_type": "code",
   "execution_count": 71,
   "metadata": {},
   "outputs": [],
   "source": [
    "pcd2 = o3d.geometry.PointCloud()\n",
    "arr = np.array(GP_train.detach().cpu().numpy())\n",
    "pcd2.points = o3d.utility.Vector3dVector(arr.reshape(-1, 3))\n",
    "frame = o3d.geometry.TriangleMesh.create_coordinate_frame()\n",
    "o3d.visualization.draw_geometries([pcd2, mesh, frame])"
   ]
  },
  {
   "cell_type": "code",
   "execution_count": null,
   "metadata": {},
   "outputs": [],
   "source": [
    "pcd2 = o3d.geometry.PointCloud()\n",
    "pcd2.points = o3d.utility.Vector3dVector(np.array(SP_trans[:, :, 0].reshape(-1, 3).contiguous().cpu()))\n",
    "frame = o3d.geometry.TriangleMesh.create_coordinate_frame()\n",
    "o3d.visualization.draw_geometries([pcd2, mesh, frame])"
   ]
  }
 ],
 "metadata": {
  "kernelspec": {
   "display_name": "Python 3",
   "language": "python",
   "name": "python3"
  },
  "language_info": {
   "codemirror_mode": {
    "name": "ipython",
    "version": 3
   },
   "file_extension": ".py",
   "mimetype": "text/x-python",
   "name": "python",
   "nbconvert_exporter": "python",
   "pygments_lexer": "ipython3",
   "version": "3.10.12"
  }
 },
 "nbformat": 4,
 "nbformat_minor": 2
}
