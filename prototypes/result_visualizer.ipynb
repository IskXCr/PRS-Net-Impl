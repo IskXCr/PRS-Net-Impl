{
 "cells": [
  {
   "cell_type": "markdown",
   "metadata": {},
   "source": [
    "# Prototype: Data Visualization"
   ]
  },
  {
   "cell_type": "code",
   "execution_count": 1,
   "metadata": {},
   "outputs": [
    {
     "name": "stdout",
     "output_type": "stream",
     "text": [
      "Jupyter environment detected. Enabling Open3D WebVisualizer.\n",
      "[Open3D INFO] WebRTC GUI backend enabled.\n",
      "[Open3D INFO] WebRTCWindowSystem: HTTP handshake server disabled.\n"
     ]
    },
    {
     "data": {
      "text/plain": [
       "device(type='cuda')"
      ]
     },
     "execution_count": 1,
     "metadata": {},
     "output_type": "execute_result"
    }
   ],
   "source": [
    "import open3d as o3d\n",
    "import numpy as np\n",
    "\n",
    "import torch\n",
    "import torch.nn as nn\n",
    "from torch.autograd import Variable\n",
    "\n",
    "import sys\n",
    "sys.path.insert(0, '../impl/utils/')\n",
    "import voxel_processing as vp\n",
    "\n",
    "# device will determine whether to run the training on GPU or CPU\n",
    "device = torch.device('cuda' if torch.cuda.is_available() else 'cpu')\n",
    "device"
   ]
  },
  {
   "cell_type": "code",
   "execution_count": 2,
   "metadata": {},
   "outputs": [
    {
     "name": "stdout",
     "output_type": "stream",
     "text": [
      "Reading: ../data/voxel_data/voxel_grid_1.obj\n",
      "Reading: ../data/voxel_data/voxel_grid_0.omap\n",
      "Reading: ../data/voxel_data/voxel_grid_1.offsetvec\n",
      "Reading: ../data/voxel_data/voxel_grid_0.gridpoints\n",
      "Reading: ../data/voxel_data/voxel_grid_0.obj\n",
      "Reading: ../data/voxel_data/voxel_grid_1.omap\n",
      "Reading: ../data/voxel_data/voxel_grid_0.offsetvec\n",
      "Reading: ../data/voxel_data/voxel_grid_1.gridpoints\n",
      "2 dataset(s) have been processed. \n",
      "2 dataset(s) have been prepared. \n"
     ]
    }
   ],
   "source": [
    "# Load datasets\n",
    "data = vp.read_dataset_from_path('../data/voxel_data/')\n",
    "data = vp.prepare_dataset(data)"
   ]
  },
  {
   "cell_type": "code",
   "execution_count": 3,
   "metadata": {},
   "outputs": [
    {
     "data": {
      "text/plain": [
       "TriangleMesh with 6130 points and 8448 triangles."
      ]
     },
     "execution_count": 3,
     "metadata": {},
     "output_type": "execute_result"
    }
   ],
   "source": [
    "mesh = data[0][0]\n",
    "plane = np.array([1, 1, 1, 0])\n",
    "mesh"
   ]
  },
  {
   "cell_type": "code",
   "execution_count": 4,
   "metadata": {},
   "outputs": [
    {
     "data": {
      "text/plain": [
       "array([[-1., -1.],\n",
       "       [-1.,  1.],\n",
       "       [ 1., -1.],\n",
       "       [ 1.,  1.]])"
      ]
     },
     "execution_count": 4,
     "metadata": {},
     "output_type": "execute_result"
    }
   ],
   "source": [
    "A = plane[0]\n",
    "B = plane[1]\n",
    "C = plane[2]\n",
    "D = plane[3]\n",
    "\n",
    "coords_mat = np.array([[-1., -1.], [-1., 1.], [1., -1.], [1., 1.]])\n",
    "coords_mat"
   ]
  },
  {
   "cell_type": "code",
   "execution_count": 5,
   "metadata": {},
   "outputs": [
    {
     "data": {
      "text/plain": [
       "array([[ 2.],\n",
       "       [ 0.],\n",
       "       [ 0.],\n",
       "       [-2.]])"
      ]
     },
     "execution_count": 5,
     "metadata": {},
     "output_type": "execute_result"
    }
   ],
   "source": [
    "zs = (-coords_mat @ plane[0:2] - plane[3]) / plane[2]\n",
    "zs = zs.reshape(-1, 1)\n",
    "zs"
   ]
  },
  {
   "cell_type": "code",
   "execution_count": 6,
   "metadata": {},
   "outputs": [
    {
     "data": {
      "text/plain": [
       "array([[-1., -1.,  2.],\n",
       "       [-1.,  1.,  0.],\n",
       "       [ 1., -1.,  0.],\n",
       "       [ 1.,  1., -2.]])"
      ]
     },
     "execution_count": 6,
     "metadata": {},
     "output_type": "execute_result"
    }
   ],
   "source": [
    "plane_vertices = np.concatenate([coords_mat, zs], axis=1)\n",
    "plane_vertices"
   ]
  },
  {
   "cell_type": "code",
   "execution_count": 7,
   "metadata": {},
   "outputs": [
    {
     "data": {
      "text/plain": [
       "array([[0, 1, 2],\n",
       "       [2, 1, 3],\n",
       "       [0, 2, 1],\n",
       "       [1, 2, 3]])"
      ]
     },
     "execution_count": 7,
     "metadata": {},
     "output_type": "execute_result"
    }
   ],
   "source": [
    "plane_triangles = np.array([[0, 1, 2], [2, 1, 3], [0, 2, 1], [1, 2, 3]])\n",
    "plane_triangles"
   ]
  },
  {
   "cell_type": "code",
   "execution_count": 8,
   "metadata": {},
   "outputs": [],
   "source": [
    "# Create a mesh for the plane\n",
    "normal = plane[0:3] / np.linalg.norm(plane[0:3])\n",
    "plane_mesh = o3d.geometry.TriangleMesh()\n",
    "plane_mesh.vertices = o3d.utility.Vector3dVector(plane_vertices)\n",
    "plane_mesh.triangles = o3d.utility.Vector3iVector(plane_triangles)\n",
    "plane_mesh.compute_triangle_normals()\n",
    "\n",
    "mesh.compute_vertex_normals()\n",
    "plane_mesh.paint_uniform_color([0.3, 0.3, 0.6])\n",
    "\n",
    "import open3d.visualization as vis\n",
    "# vis.draw_geometries([plane_mesh, mesh])"
   ]
  },
  {
   "cell_type": "code",
   "execution_count": 9,
   "metadata": {},
   "outputs": [],
   "source": [
    "# import open3d.visualization as vis\n",
    "\n",
    "# # Visualize the plane\n",
    "# mat_plane = vis.rendering.MaterialRecord()\n",
    "# mat_plane.shader = 'defaultLitSSR'\n",
    "# mat_plane.base_color = [0., 0.467, 0., 0.2]\n",
    "# mat_plane.base_roughness = 0.\n",
    "# mat_plane.base_reflectance = 0.\n",
    "# mat_plane.base_clearcoat = 1.\n",
    "# mat_plane.thickness = 1.\n",
    "# mat_plane.transmission = 1.\n",
    "# mat_plane.absorption_distance = 10\n",
    "# mat_plane.absorption_color = [0.5, 0, 0.5]\n",
    "\n",
    "# geoms = [{'name': 'plane', 'geometry': plane_mesh, 'material': mat_plane}, {'name': 'object', 'geometry': mesh}]\n",
    "\n",
    "# vis.draw(geoms, title='Hi')"
   ]
  },
  {
   "cell_type": "code",
   "execution_count": 10,
   "metadata": {},
   "outputs": [
    {
     "name": "stdout",
     "output_type": "stream",
     "text": [
      "standard_AABB=AxisAlignedBoundingBox: min: (-1, -1, -1), max: (1, 1, 1)\n",
      "[visualization.py] Drawing symmetry plane [1 0 0 0]\n"
     ]
    }
   ],
   "source": [
    "import visualization as prsvis\n",
    "prsvis.visualize_planar_symmetry(mesh, np.array([1, 0, 0, 0]))"
   ]
  }
 ],
 "metadata": {
  "kernelspec": {
   "display_name": "Python 3",
   "language": "python",
   "name": "python3"
  },
  "language_info": {
   "codemirror_mode": {
    "name": "ipython",
    "version": 3
   },
   "file_extension": ".py",
   "mimetype": "text/x-python",
   "name": "python",
   "nbconvert_exporter": "python",
   "pygments_lexer": "ipython3",
   "version": "3.10.12"
  }
 },
 "nbformat": 4,
 "nbformat_minor": 2
}
