{
 "cells": [
  {
   "cell_type": "markdown",
   "metadata": {},
   "source": [
    "# Prototype: Data Visualization"
   ]
  },
  {
   "cell_type": "code",
   "execution_count": 1,
   "metadata": {},
   "outputs": [
    {
     "name": "stdout",
     "output_type": "stream",
     "text": [
      "Jupyter environment detected. Enabling Open3D WebVisualizer.\n",
      "[Open3D INFO] WebRTC GUI backend enabled.\n",
      "[Open3D INFO] WebRTCWindowSystem: HTTP handshake server disabled.\n"
     ]
    },
    {
     "data": {
      "text/plain": [
       "device(type='cuda')"
      ]
     },
     "execution_count": 1,
     "metadata": {},
     "output_type": "execute_result"
    }
   ],
   "source": [
    "import open3d as o3d\n",
    "import numpy as np\n",
    "\n",
    "import torch\n",
    "import torch.nn as nn\n",
    "from torch.autograd import Variable\n",
    "import open3d.visualization as vis\n",
    "\n",
    "import sys\n",
    "sys.path.insert(0, '../impl/utils/')\n",
    "import voxel_processing as vp\n",
    "\n",
    "# device will determine whether to run the training on GPU or CPU\n",
    "device = torch.device('cuda' if torch.cuda.is_available() else 'cpu')\n",
    "device"
   ]
  },
  {
   "cell_type": "code",
   "execution_count": 2,
   "metadata": {},
   "outputs": [
    {
     "name": "stdout",
     "output_type": "stream",
     "text": [
      "Detected 2 dataset(s). \n"
     ]
    }
   ],
   "source": [
    "# Load datasets\n",
    "data = vp.read_dataset_from_path('../data/func_test/voxel/')"
   ]
  },
  {
   "cell_type": "code",
   "execution_count": 10,
   "metadata": {},
   "outputs": [
    {
     "name": "stdout",
     "output_type": "stream",
     "text": [
      "[visualization.py] Drawing symmetry plane [ 0.9538  0.2334 -0.1813 -0.0546]\n"
     ]
    }
   ],
   "source": [
    "mesh = o3d.io.read_triangle_mesh(\"../data/func_test/obj/test.obj\")\n",
    "mesh.compute_vertex_normals()\n",
    "plane = np.array([0.9538,  0.2334, -0.1813, -0.0546])\n",
    "import visualization as prsvis\n",
    "prsvis.visualize_planar_symmetry(mesh, plane)"
   ]
  },
  {
   "cell_type": "code",
   "execution_count": 7,
   "metadata": {},
   "outputs": [
    {
     "name": "stdout",
     "output_type": "stream",
     "text": [
      "[visualization.py] Drawing symmetry plane [ 0.5513  0.5534 -0.0589 -0.0903 -0.1242]\n"
     ]
    }
   ],
   "source": [
    "pcd = mesh.sample_points_uniformly(number_of_points=1000)\n",
    "voxel_grid = o3d.geometry.VoxelGrid.create_from_point_cloud(pcd, voxel_size=float(2/32 + 0.001))\n",
    "prsvis.visualize_planar_symmetry(voxel_grid, plane)"
   ]
  },
  {
   "cell_type": "code",
   "execution_count": 11,
   "metadata": {},
   "outputs": [],
   "source": [
    "mesh_box = o3d.geometry.TriangleMesh.create_box(width=1, height=1, depth=0.01)\n",
    "mesh_box.paint_uniform_color(np.array([0.1, 0.1, 0.4]))\n",
    "mesh_box.translate(np.array([-.5, -.5, 0.])) \n",
    "frame = o3d.geometry.TriangleMesh.create_coordinate_frame()\n",
    "frame2 = o3d.geometry.TriangleMesh.create_coordinate_frame()\n",
    "\n",
    "def get_trans_mat(normal):\n",
    "    z = normal\n",
    "    y = z - np.array([0., 0., 0.3])\n",
    "    y = y - np.dot(y, z) * z\n",
    "    y = y / np.linalg.norm(y)\n",
    "    x = np.cross(y, z)\n",
    "    result = np.eye(4, 4)\n",
    "    result[0:3, 0] = x\n",
    "    result[0:3, 1] = y\n",
    "    result[0:3, 2] = z\n",
    "    return result\n",
    "\n",
    "plane = np.array([1., 1., 1., 1.])\n",
    "normal = plane[0:3] / np.linalg.norm(plane[0:3])\n",
    "mesh_box.transform(get_trans_mat(normal))\n",
    "\n",
    "vis.draw_geometries([mesh_box, frame])"
   ]
  },
  {
   "cell_type": "code",
   "execution_count": 13,
   "metadata": {},
   "outputs": [],
   "source": [
    "arrow = o3d.geometry.TriangleMesh.create_arrow(cylinder_radius=.02, cone_radius=.025, cylinder_height=.9, cone_height=.1)\n",
    "arrow.transform(get_trans_mat(normal))\n",
    "arrow.paint_uniform_color([.1, .7, .7])\n",
    "frame = o3d.geometry.TriangleMesh.create_coordinate_frame()\n",
    "vis.draw_geometries([arrow, frame])"
   ]
  }
 ],
 "metadata": {
  "kernelspec": {
   "display_name": "Python 3",
   "language": "python",
   "name": "python3"
  },
  "language_info": {
   "codemirror_mode": {
    "name": "ipython",
    "version": 3
   },
   "file_extension": ".py",
   "mimetype": "text/x-python",
   "name": "python",
   "nbconvert_exporter": "python",
   "pygments_lexer": "ipython3",
   "version": "3.10.12"
  }
 },
 "nbformat": 4,
 "nbformat_minor": 2
}
