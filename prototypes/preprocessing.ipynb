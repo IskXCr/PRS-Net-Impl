{
 "cells": [
  {
   "cell_type": "markdown",
   "metadata": {},
   "source": [
    "# Preproceesing\n",
    "We preprocess models in this file through the following procedure:\n",
    "1. Load the model through Open3D\n",
    "2. Normalize the model such that it fits inside a 32x32x32 voxel grid:\n",
    "    - Normalize the bounding box to $ [-1.0]^3 $ to $ [1.0]^3 $\n",
    "    - Voxelize using Open3D\n",
    "3. Convert the model to an occupancy map and store to a file in human-readable format."
   ]
  },
  {
   "cell_type": "code",
   "execution_count": 56,
   "metadata": {},
   "outputs": [],
   "source": [
    "import torch\n",
    "import numpy as np\n",
    "import open3d as o3d\n",
    "import os\n",
    "\n",
    "o3d.utility.set_verbosity_level(o3d.utility.VerbosityLevel.Warning)"
   ]
  },
  {
   "cell_type": "code",
   "execution_count": 57,
   "metadata": {},
   "outputs": [
    {
     "data": {
      "text/plain": [
       "TriangleMesh with 7526 points and 8448 triangles."
      ]
     },
     "execution_count": 57,
     "metadata": {},
     "output_type": "execute_result"
    }
   ],
   "source": [
    "# Read mesh\n",
    "mesh = o3d.io.read_triangle_mesh(\"../data/shapenet/1021a0914a7207aff927ed529ad90a11/models/model_normalized.obj\")\n",
    "mesh"
   ]
  },
  {
   "cell_type": "code",
   "execution_count": 58,
   "metadata": {},
   "outputs": [
    {
     "name": "stdout",
     "output_type": "stream",
     "text": [
      "Origin AxisAlignedBoundingBox: min: (-0.359457, -0.065165, -0.299895), max: (0.360894, 0.144524, 0.36126),\n",
      "\t max extent=0.720350980758667\n",
      "New AxisAlignedBoundingBox: min: (-1.00001, -0.177738, -0.848785), max: (0.999988, 0.404448, 0.986862),\n",
      "\t max extent=2.0\n"
     ]
    }
   ],
   "source": [
    "def normalize(mesh):\n",
    "    '''\n",
    "    Normalize mesh in-place.\n",
    "    '''\n",
    "    center = mesh.get_center()\n",
    "    mesh.translate(-center)\n",
    "    extent = mesh.get_axis_aligned_bounding_box().get_max_extent()\n",
    "    mesh.scale(2.0 / extent, [0, 0, 0])\n",
    "\n",
    "\n",
    "AABB = mesh.get_axis_aligned_bounding_box()\n",
    "print(f\"Origin {AABB},\\n\\t max extent={AABB.get_max_extent()}\")\n",
    "\n",
    "normalize(mesh)\n",
    "\n",
    "AABB = mesh.get_axis_aligned_bounding_box()\n",
    "print(f\"New {AABB},\\n\\t max extent={AABB.get_max_extent()}\")"
   ]
  },
  {
   "cell_type": "code",
   "execution_count": 59,
   "metadata": {},
   "outputs": [],
   "source": [
    "o3d.visualization.draw_geometries([mesh])"
   ]
  },
  {
   "cell_type": "markdown",
   "metadata": {},
   "source": [
    "The following part is related to voxelization."
   ]
  },
  {
   "cell_type": "code",
   "execution_count": 68,
   "metadata": {},
   "outputs": [],
   "source": [
    "voxel_grid = o3d.geometry.VoxelGrid.create_from_triangle_mesh(mesh, voxel_size=float(2/32 + 0.001))\n",
    "o3d.visualization.draw_geometries([voxel_grid])"
   ]
  },
  {
   "cell_type": "code",
   "execution_count": 61,
   "metadata": {},
   "outputs": [],
   "source": [
    "# Fill the voxel_grid\n",
    "# TODO: Depth Carving"
   ]
  },
  {
   "cell_type": "code",
   "execution_count": 87,
   "metadata": {},
   "outputs": [
    {
     "name": "stdout",
     "output_type": "stream",
     "text": [
      "VoxelGrid with 433 voxels.\n",
      "433\n"
     ]
    }
   ],
   "source": [
    "# Convert voxel_grid to numpy matrix\n",
    "res = np.zeros((32, 32, 32), dtype=np.int32)\n",
    "for voxel in voxel_grid.get_voxels():\n",
    "    # print(voxel.grid_index)\n",
    "    res[tuple(voxel.grid_index)] = 1\n",
    "\n",
    "print(voxel_grid)\n",
    "print(np.sum(np.count_nonzero(res)))"
   ]
  },
  {
   "cell_type": "code",
   "execution_count": 101,
   "metadata": {},
   "outputs": [],
   "source": [
    "np.savetxt('test.txt', res.reshape((1, -1)), fmt='%d', delimiter=' ')"
   ]
  },
  {
   "cell_type": "code",
   "execution_count": 92,
   "metadata": {},
   "outputs": [
    {
     "data": {
      "text/plain": [
       "433"
      ]
     },
     "execution_count": 92,
     "metadata": {},
     "output_type": "execute_result"
    }
   ],
   "source": [
    "v = np.loadtxt('test.txt', dtype=int, delimiter=' ').reshape((32, 32, 32))\n",
    "np.sum(np.count_nonzero(v))"
   ]
  }
 ],
 "metadata": {
  "kernelspec": {
   "display_name": "Python 3",
   "language": "python",
   "name": "python3"
  },
  "language_info": {
   "codemirror_mode": {
    "name": "ipython",
    "version": 3
   },
   "file_extension": ".py",
   "mimetype": "text/x-python",
   "name": "python",
   "nbconvert_exporter": "python",
   "pygments_lexer": "ipython3",
   "version": "3.10.12"
  }
 },
 "nbformat": 4,
 "nbformat_minor": 2
}
